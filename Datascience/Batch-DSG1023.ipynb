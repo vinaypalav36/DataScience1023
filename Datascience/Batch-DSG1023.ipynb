{
 "cells": [
  {
   "cell_type": "code",
   "execution_count": null,
   "id": "1ad1969a",
   "metadata": {},
   "outputs": [],
   "source": []
  },
  {
   "cell_type": "code",
   "execution_count": 1,
   "id": "c8ec95b8",
   "metadata": {},
   "outputs": [
    {
     "name": "stdout",
     "output_type": "stream",
     "text": [
      "Hello World\n"
     ]
    }
   ],
   "source": [
    "print(\"Hello World\")"
   ]
  },
  {
   "cell_type": "code",
   "execution_count": 2,
   "id": "89ec23a8",
   "metadata": {},
   "outputs": [
    {
     "name": "stdout",
     "output_type": "stream",
     "text": [
      " Volume in drive C has no label.\n",
      " Volume Serial Number is 9CC2-51FB\n",
      "\n",
      " Directory of C:\\Users\\Vinay\n",
      "\n",
      "22-04-2024  21:31    <DIR>          .\n",
      "22-04-2024  21:31    <DIR>          ..\n",
      "22-04-2024  21:11    <DIR>          .anaconda\n",
      "03-06-2023  12:49    <DIR>          .cache\n",
      "22-04-2024  21:31    <DIR>          .conda\n",
      "23-07-2023  20:21                25 .condarc\n",
      "23-07-2023  20:21    <DIR>          .continuum\n",
      "22-04-2024  21:25    <DIR>          .ipynb_checkpoints\n",
      "22-04-2024  21:19    <DIR>          .ipython\n",
      "22-04-2024  21:16    <DIR>          .jupyter\n",
      "30-12-2023  20:47    <DIR>          .ms-ad\n",
      "03-06-2023  11:44    <DIR>          3D Objects\n",
      "22-04-2024  21:24    <DIR>          anaconda3\n",
      "03-06-2023  11:44    <DIR>          Contacts\n",
      "22-04-2024  20:08    <DIR>          Desktop\n",
      "13-04-2024  16:11    <DIR>          Documents\n",
      "22-04-2024  20:39    <DIR>          Downloads\n",
      "03-06-2023  11:44    <DIR>          Favorites\n",
      "03-06-2023  11:44    <DIR>          Links\n",
      "03-06-2023  11:44    <DIR>          Music\n",
      "03-06-2023  11:47    <DIR>          OneDrive\n",
      "11-04-2024  15:12    <DIR>          Pictures\n",
      "03-06-2023  11:44    <DIR>          Saved Games\n",
      "03-06-2023  11:45    <DIR>          Searches\n",
      "22-04-2024  21:20                72 Untitled.ipynb\n",
      "22-04-2024  21:31               867 Untitled1.ipynb\n",
      "09-06-2023  12:55    <DIR>          Videos\n",
      "               3 File(s)            964 bytes\n",
      "              24 Dir(s)  147,411,058,688 bytes free\n"
     ]
    }
   ],
   "source": [
    "ls"
   ]
  },
  {
   "cell_type": "code",
   "execution_count": 4,
   "id": "8e32272c",
   "metadata": {},
   "outputs": [
    {
     "name": "stderr",
     "output_type": "stream",
     "text": [
      "UsageError: Line magic function `%print(\"Hello` not found.\n"
     ]
    }
   ],
   "source": [
    "%print(\"Hello World\")"
   ]
  },
  {
   "cell_type": "code",
   "execution_count": 5,
   "id": "3499fc9d",
   "metadata": {},
   "outputs": [
    {
     "name": "stdout",
     "output_type": "stream",
     "text": [
      "Hello World\n"
     ]
    }
   ],
   "source": [
    "print(\"Hello World\")"
   ]
  },
  {
   "cell_type": "code",
   "execution_count": 1,
   "id": "8a5a3507",
   "metadata": {},
   "outputs": [
    {
     "data": {
      "text/plain": [
       "25"
      ]
     },
     "execution_count": 1,
     "metadata": {},
     "output_type": "execute_result"
    }
   ],
   "source": [
    "10+15"
   ]
  },
  {
   "cell_type": "code",
   "execution_count": 3,
   "id": "2c94717c",
   "metadata": {},
   "outputs": [
    {
     "ename": "SyntaxError",
     "evalue": "invalid syntax (3173475394.py, line 1)",
     "output_type": "error",
     "traceback": [
      "\u001b[1;36m  Cell \u001b[1;32mIn[3], line 1\u001b[1;36m\u001b[0m\n\u001b[1;33m    ctrl+enter- execute /run the cell\u001b[0m\n\u001b[1;37m                             ^\u001b[0m\n\u001b[1;31mSyntaxError\u001b[0m\u001b[1;31m:\u001b[0m invalid syntax\n"
     ]
    }
   ],
   "source": [
    "ctrl+enter- execute /run the cell\n",
    "shift+enter- execute /run the cell\n",
    "\n",
    "esc+a- to add a cell above the current cell\n",
    "esc+b- to add a cell below the current cell\n",
    "\n",
    "esc+d+d- to delete the selected cell"
   ]
  }
 ],
 "metadata": {
  "kernelspec": {
   "display_name": "Python 3 (ipykernel)",
   "language": "python",
   "name": "python3"
  },
  "language_info": {
   "codemirror_mode": {
    "name": "ipython",
    "version": 3
   },
   "file_extension": ".py",
   "mimetype": "text/x-python",
   "name": "python",
   "nbconvert_exporter": "python",
   "pygments_lexer": "ipython3",
   "version": "3.11.7"
  }
 },
 "nbformat": 4,
 "nbformat_minor": 5
}
